{
 "cells": [
  {
   "cell_type": "code",
   "execution_count": 6,
   "id": "033f7c14",
   "metadata": {},
   "outputs": [
    {
     "name": "stdout",
     "output_type": "stream",
     "text": [
      "Thread1 is executing 1\n",
      "Thread1 is executing 2\n",
      "Thread1 is executing 3Thread2 is executing A\n",
      "Thread2 is executing B\n",
      "Thread1 is executing\n",
      "Thread2 is executing C\n",
      "Thread2 is executing D\n",
      "Thread2 is executing E\n",
      "Thread2 is executing F\n",
      "Thread2 is executing G\n",
      "Thread2 is executing H\n",
      "Thread2 is executing I\n",
      "Thread2 is executing J\n",
      "Thread2 is executing K\n",
      " 4\n",
      "Thread1 is executing 5\n",
      "Thread1 is executing 6\n",
      "Thread1 is executing 7\n",
      "Thread1 is executing 8\n",
      "Thread1 is executing 9\n",
      "Thread1 is executing 10\n"
     ]
    }
   ],
   "source": [
    "import threading \n",
    "\n",
    "def numbers():\n",
    "    for i in range(1,11):\n",
    "        print(\"Thread1 is executing\", i)\n",
    "\n",
    "        \n",
    "def strings():\n",
    "    for j in \"ABCDEFGHIJK\":\n",
    "        print(\"Thread2 is executing\", j)\n",
    "        \n",
    "thread1 = threading.Thread(target = numbers)\n",
    "thread2 = threading.Thread(target = strings)\n",
    "thread1.start()\n",
    "thread2.start()\n",
    "    "
   ]
  },
  {
   "cell_type": "code",
   "execution_count": null,
   "id": "9befbf9f",
   "metadata": {},
   "outputs": [],
   "source": []
  },
  {
   "cell_type": "code",
   "execution_count": null,
   "id": "1df65fae",
   "metadata": {},
   "outputs": [],
   "source": []
  }
 ],
 "metadata": {
  "kernelspec": {
   "display_name": "Python 3 (ipykernel)",
   "language": "python",
   "name": "python3"
  },
  "language_info": {
   "codemirror_mode": {
    "name": "ipython",
    "version": 3
   },
   "file_extension": ".py",
   "mimetype": "text/x-python",
   "name": "python",
   "nbconvert_exporter": "python",
   "pygments_lexer": "ipython3",
   "version": "3.9.12"
  }
 },
 "nbformat": 4,
 "nbformat_minor": 5
}
