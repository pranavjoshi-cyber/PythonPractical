{
 "cells": [
  {
   "cell_type": "code",
   "execution_count": 2,
   "id": "e491ffc5",
   "metadata": {},
   "outputs": [
    {
     "name": "stdout",
     "output_type": "stream",
     "text": [
      "20 10\n"
     ]
    }
   ],
   "source": [
    "#1) to demonstrate nested function\n",
    "def outer_function(x):\n",
    "    def inner_function(y):\n",
    "        print(x,y)\n",
    "    inner_function(10)\n",
    "outer_function(20)"
   ]
  },
  {
   "cell_type": "code",
   "execution_count": 6,
   "id": "12c312e2",
   "metadata": {},
   "outputs": [
    {
     "data": {
      "text/plain": [
       "120"
      ]
     },
     "execution_count": 6,
     "metadata": {},
     "output_type": "execute_result"
    }
   ],
   "source": [
    "#2) to find factorial of a number\n",
    "def factorial(n):\n",
    "    if n == 0 or n == 1:\n",
    "        return 1\n",
    "    else:\n",
    "        return n *factorial(n-1)\n",
    "    \n",
    "factorial(5)"
   ]
  },
  {
   "cell_type": "code",
   "execution_count": 7,
   "id": "b2493067",
   "metadata": {},
   "outputs": [],
   "source": [
    "#3) "
   ]
  },
  {
   "cell_type": "code",
   "execution_count": 8,
   "id": "7bc4957d",
   "metadata": {},
   "outputs": [],
   "source": [
    "#4) "
   ]
  },
  {
   "cell_type": "code",
   "execution_count": 10,
   "id": "2499dccb",
   "metadata": {},
   "outputs": [
    {
     "name": "stdout",
     "output_type": "stream",
     "text": [
      "3.141592653589793\n",
      "5.0\n",
      "1.0\n",
      "1\n",
      "cherry\n",
      "0.1868772928457354\n",
      "2023-05-04 07:53:41.953239\n",
      "2023\n",
      "5\n",
      "4\n"
     ]
    }
   ],
   "source": [
    "#5) to access builtin functions\n",
    "import math\n",
    "import random\n",
    "import datetime\n",
    "\n",
    "\n",
    "print(math.pi)             \n",
    "print(math.sqrt(25))\n",
    "print(math.sin(math.pi/2))  \n",
    "\n",
    "\n",
    "print(random.randint(1, 10))       \n",
    "print(random.choice(['apple', 'banana', 'cherry'])) \n",
    "print(random.random())      \n",
    "\n",
    "\n",
    "now = datetime.datetime.now()\n",
    "print(now)                 \n",
    "print(now.year)             \n",
    "print(now.month)            \n",
    "print(now.day)          \n"
   ]
  },
  {
   "cell_type": "code",
   "execution_count": null,
   "id": "bf95cfa0",
   "metadata": {},
   "outputs": [],
   "source": []
  },
  {
   "cell_type": "code",
   "execution_count": null,
   "id": "2cfaea2c",
   "metadata": {},
   "outputs": [],
   "source": []
  }
 ],
 "metadata": {
  "kernelspec": {
   "display_name": "Python 3 (ipykernel)",
   "language": "python",
   "name": "python3"
  },
  "language_info": {
   "codemirror_mode": {
    "name": "ipython",
    "version": 3
   },
   "file_extension": ".py",
   "mimetype": "text/x-python",
   "name": "python",
   "nbconvert_exporter": "python",
   "pygments_lexer": "ipython3",
   "version": "3.9.12"
  }
 },
 "nbformat": 4,
 "nbformat_minor": 5
}
