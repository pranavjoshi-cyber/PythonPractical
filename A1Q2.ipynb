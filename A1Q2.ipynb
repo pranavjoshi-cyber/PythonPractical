{
 "cells": [
  {
   "cell_type": "code",
   "execution_count": 1,
   "id": "2d3565de",
   "metadata": {},
   "outputs": [
    {
     "name": "stdout",
     "output_type": "stream",
     "text": [
      "uoy era woh olleH\n"
     ]
    }
   ],
   "source": [
    "#1) to reverse string\n",
    "str1 = \"Hello how are you\"\n",
    "rev_str1 = str1[::-1]\n",
    "print(rev_str1)"
   ]
  },
  {
   "cell_type": "code",
   "execution_count": 8,
   "id": "a8a27d4d",
   "metadata": {},
   "outputs": [
    {
     "name": "stdout",
     "output_type": "stream",
     "text": [
      "Vowels: 15\n",
      "Consonents: 32\n"
     ]
    }
   ],
   "source": [
    "#2) to count vowels and consonents\n",
    "str2 = \"This is the statement to check for vowels and consonents\"\n",
    "vowels = 'aeiou'\n",
    "vowel_count = 0\n",
    "consonent_count = 0\n",
    "for c in str2:\n",
    "    if c in vowels:\n",
    "        vowel_count+=1\n",
    "    elif c.isalpha():\n",
    "        consonent_count+=1\n",
    "print(\"Vowels:\", vowel_count)\n",
    "print(\"Consonents:\", consonent_count)"
   ]
  },
  {
   "cell_type": "code",
   "execution_count": 11,
   "id": "d87d5437",
   "metadata": {},
   "outputs": [
    {
     "name": "stdout",
     "output_type": "stream",
     "text": [
      "The number of letters in the string is  8\n"
     ]
    }
   ],
   "source": [
    "#3) to count the number of letters\n",
    "str3 = \"Welcome \"\n",
    "print(\"The number of letters in the string is \", len(str3))"
   ]
  },
  {
   "cell_type": "code",
   "execution_count": 4,
   "id": "5dc665a4",
   "metadata": {},
   "outputs": [
    {
     "name": "stdout",
     "output_type": "stream",
     "text": [
      "tO cONVERT lOWER tO uPPER\n"
     ]
    }
   ],
   "source": [
    "#4) to convert lower to upper and upper to lower\n",
    "str4 = 'To Convert Lower To Upper'\n",
    "converted_str = ''\n",
    "for c in str4:\n",
    "    if c.islower():\n",
    "        converted_str += c.upper()\n",
    "    elif c.isupper():\n",
    "        converted_str+=c.lower()\n",
    "    else:\n",
    "        converted_str+=c\n",
    "print(converted_str)"
   ]
  },
  {
   "cell_type": "code",
   "execution_count": 7,
   "id": "ff9b908a",
   "metadata": {},
   "outputs": [
    {
     "name": "stdout",
     "output_type": "stream",
     "text": [
      "Uppercase count: 2\n",
      "Lowercase count: 17\n",
      "Numeric count: 4\n",
      "Special character count: 3\n"
     ]
    }
   ],
   "source": [
    "#5) count, lower, upper, numeric and special characters\n",
    "str5 = 'PranavJoshi6565@gmail.com '\n",
    "upper_count = 0\n",
    "lower_count = 0\n",
    "numeric_count = 0\n",
    "special_count = 0\n",
    "for c in str5:\n",
    "    if c.isupper():\n",
    "        upper_count+=1\n",
    "    elif c.islower():\n",
    "        lower_count+=1\n",
    "    elif c.isnumeric():\n",
    "        numeric_count+=1\n",
    "    else:\n",
    "        special_count+=1\n",
    "        \n",
    "print(\"Uppercase count:\", upper_count)\n",
    "print(\"Lowercase count:\",lower_count)\n",
    "print(\"Numeric count:\",numeric_count)\n",
    "\n",
    "print(\"Special character count:\",special_count)\n",
    "\n",
    "\n",
    "\n",
    "        \n",
    "    "
   ]
  },
  {
   "cell_type": "code",
   "execution_count": null,
   "id": "64faebee",
   "metadata": {},
   "outputs": [],
   "source": []
  }
 ],
 "metadata": {
  "kernelspec": {
   "display_name": "Python 3 (ipykernel)",
   "language": "python",
   "name": "python3"
  },
  "language_info": {
   "codemirror_mode": {
    "name": "ipython",
    "version": 3
   },
   "file_extension": ".py",
   "mimetype": "text/x-python",
   "name": "python",
   "nbconvert_exporter": "python",
   "pygments_lexer": "ipython3",
   "version": "3.9.12"
  }
 },
 "nbformat": 4,
 "nbformat_minor": 5
}
