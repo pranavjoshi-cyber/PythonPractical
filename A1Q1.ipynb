{
 "cells": [
  {
   "cell_type": "code",
   "execution_count": 1,
   "id": "0af8e7f2",
   "metadata": {},
   "outputs": [
    {
     "name": "stdout",
     "output_type": "stream",
     "text": [
      "[1, 2, 3, 4, 5]\n",
      "15\n"
     ]
    }
   ],
   "source": [
    "list1 = [1,2,3,4,5]\n",
    "print(list1)\n",
    "\n",
    "# 1)\n",
    "sum = 0\n",
    "for i in range(0, len(list1)):\n",
    "    sum = sum + list1[i]      # 1) to sum the elements in the list\n",
    "print(sum)\n"
   ]
  },
  {
   "cell_type": "code",
   "execution_count": 5,
   "id": "421ca9aa",
   "metadata": {},
   "outputs": [
    {
     "name": "stdout",
     "output_type": "stream",
     "text": [
      "The largest number in the list is 40\n"
     ]
    }
   ],
   "source": [
    "numbers = [10,20,30,20,40,0]           #2) to get the largest number in the list \n",
    "max = numbers[0]\n",
    "for i in range(1, len(numbers)):\n",
    "    if numbers[i]>max:\n",
    "        max = numbers[i]\n",
    "print(\"The largest number in the list is\", max)"
   ]
  },
  {
   "cell_type": "code",
   "execution_count": 8,
   "id": "0ffab4ef",
   "metadata": {},
   "outputs": [
    {
     "name": "stdout",
     "output_type": "stream",
     "text": [
      "The new list is  [10, 20, 30, 40, 50]\n"
     ]
    }
   ],
   "source": [
    "old_list = [10,20,30,20,40,40,50]     #3) to remove the duplicates in the list\n",
    "new_list = []\n",
    "for i in old_list:\n",
    "    if i not in new_list:\n",
    "        new_list.append(i)\n",
    "\n",
    "print(\"The new list is \", new_list)"
   ]
  },
  {
   "cell_type": "code",
   "execution_count": 4,
   "id": "f507a7fa",
   "metadata": {},
   "outputs": [
    {
     "name": "stdout",
     "output_type": "stream",
     "text": [
      "Positive list is : [1, 2, 3, 10, 6]\n",
      "Negative list is : [-3, -5, -1]\n"
     ]
    }
   ],
   "source": [
    "list1 = [1,2,3,-3,-5,10,6,-1]        #4) to seperate positive and negative numbers\n",
    "positive = []\n",
    "negative = []\n",
    "i = 0\n",
    "while(i<len(list1)):\n",
    "    if(list1[i]>=0):\n",
    "        positive.append(list1[i])\n",
    "    else:\n",
    "        negative.append(list1[i])\n",
    "    i = i + 1\n",
    "\n",
    "print(\"Positive list is :\", positive)\n",
    "print(\"Negative list is :\", negative)"
   ]
  },
  {
   "cell_type": "code",
   "execution_count": 5,
   "id": "a1804df3",
   "metadata": {},
   "outputs": [
    {
     "name": "stdout",
     "output_type": "stream",
     "text": [
      "Even list is  [2, 4, 10, 20, 50]\n",
      "Odd list is  [1, 3, 31, 7, 9]\n"
     ]
    }
   ],
   "source": [
    "a = [1,2,3,4,10,20,31,7,9,50]        #5) to filter even and odd\n",
    "even = []\n",
    "odd = []\n",
    "for i in a:\n",
    "    if i%2 == 0:\n",
    "        even.append(i)\n",
    "    else:\n",
    "        odd.append(i)\n",
    "print(\"Even list is \", even)\n",
    "print(\"Odd list is \", odd)"
   ]
  },
  {
   "cell_type": "code",
   "execution_count": null,
   "id": "4e7fbaa2",
   "metadata": {},
   "outputs": [],
   "source": [
    "\n"
   ]
  },
  {
   "cell_type": "code",
   "execution_count": null,
   "id": "4f355499",
   "metadata": {},
   "outputs": [],
   "source": []
  },
  {
   "cell_type": "code",
   "execution_count": null,
   "id": "9fc5a007",
   "metadata": {},
   "outputs": [],
   "source": []
  }
 ],
 "metadata": {
  "kernelspec": {
   "display_name": "Python 3 (ipykernel)",
   "language": "python",
   "name": "python3"
  },
  "language_info": {
   "codemirror_mode": {
    "name": "ipython",
    "version": 3
   },
   "file_extension": ".py",
   "mimetype": "text/x-python",
   "name": "python",
   "nbconvert_exporter": "python",
   "pygments_lexer": "ipython3",
   "version": "3.9.12"
  }
 },
 "nbformat": 4,
 "nbformat_minor": 5
}
