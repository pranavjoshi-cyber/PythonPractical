{
 "cells": [
  {
   "cell_type": "code",
   "execution_count": 12,
   "id": "9b8bf5fd",
   "metadata": {},
   "outputs": [
    {
     "name": "stdout",
     "output_type": "stream",
     "text": [
      "hi\n",
      "how\n",
      "are\n",
      "you\n",
      "h\n",
      "i\n",
      " \n",
      "h\n",
      "o\n",
      "w\n",
      " \n",
      "a\n",
      "r\n",
      "e\n",
      " \n",
      "y\n",
      "o\n",
      "u\n",
      "\n",
      "\n"
     ]
    }
   ],
   "source": [
    "#1\n",
    "file = open(\"file1\",'r')    # to read file word by word\n",
    "for line in file:\n",
    "    for word in line.split():\n",
    "        print(word)\n",
    "        \n",
    "#2\n",
    "file = open(\"file1\",'r')    # to read file character by character\n",
    "for line in file:\n",
    "    for char in line:\n",
    "        print(char)\n",
    "\n",
    "\n",
    "#print(data)"
   ]
  },
  {
   "cell_type": "code",
   "execution_count": 5,
   "id": "35cb17e9",
   "metadata": {},
   "outputs": [
    {
     "name": "stdout",
     "output_type": "stream",
     "text": [
      "Number of words 4\n",
      "Number of lines  1\n",
      "number of characters 15\n"
     ]
    }
   ],
   "source": [
    "#3\n",
    "words = 0\n",
    "lines = 0\n",
    "characters = 0\n",
    "spaces = 0\n",
    "file = open(\"file1\", 'r')\n",
    "for line in file:\n",
    "    words+=len(line.split())\n",
    "    lines+=1\n",
    "    characters+=len(line)\n",
    "    \n",
    "print(\"Number of words\", words)\n",
    "print(\"Number of lines \", lines)\n",
    "print(\"number of characters\", characters)\n",
    "\n",
    "\n"
   ]
  },
  {
   "cell_type": "code",
   "execution_count": null,
   "id": "9ce39338",
   "metadata": {},
   "outputs": [],
   "source": []
  },
  {
   "cell_type": "code",
   "execution_count": null,
   "metadata": {},
   "outputs": [],
   "source": []
  },
  {
   "cell_type": "code",
   "execution_count": 18,
   "id": "9fc43d6a",
   "metadata": {},
   "outputs": [
    {
     "name": "stdout",
     "output_type": "stream",
     "text": [
      "The key-value pair 'key: value' occurs 0 times in the file.\n"
     ]
    }
   ],
   "source": [
    "#4\n",
    "file = open(\"file1\", 'r')\n",
    "key = 'key'\n",
    "value = 'value'\n",
    "for line in file:\n",
    "    data = file.read()\n",
    "    key_value = data.count(f\"{key}: {value}\")\n",
    "print(f\"The key-value pair '{key}: {value}' occurs {key_value} times in the file.\") "
   ]
  },
  {
   "cell_type": "code",
   "execution_count": 15,
   "id": "7800c468",
   "metadata": {},
   "outputs": [
    {
     "name": "stdout",
     "output_type": "stream",
     "text": [
      "['how', 'are', 'you']\n"
     ]
    }
   ],
   "source": [
    "#5 \n",
    "characters = []\n",
    "n = 3\n",
    "file = open(\"file1\", 'r')\n",
    "data = file.read()\n",
    "words = data.split()\n",
    "\n",
    "for word in words:\n",
    "    if len(word)==n:\n",
    "        characters.append(word)\n",
    "    \n",
    "print(characters)"
   ]
  },
  {
   "cell_type": "code",
   "execution_count": 22,
   "id": "01201244",
   "metadata": {},
   "outputs": [
    {
     "name": "stdout",
     "output_type": "stream",
     "text": [
      "2\n"
     ]
    }
   ],
   "source": [
    "#6\n",
    "count = 0\n",
    "file = open(\"file1\", 'r')\n",
    "for line in file:\n",
    "    count+=1\n",
    "    \n",
    "print(count)"
   ]
  },
  {
   "cell_type": "code",
   "execution_count": 24,
   "id": "8d89b0f6",
   "metadata": {},
   "outputs": [],
   "source": [
    "#7 \n",
    "import json\n",
    "file = open(\"file1\",'r')\n",
    "data = json.load(file)\n",
    "print(data)"
   ]
  },
  {
   "cell_type": "code",
   "execution_count": 27,
   "id": "0379716c",
   "metadata": {},
   "outputs": [
    {
     "data": {
      "text/plain": [
       "29"
      ]
     },
     "execution_count": 27,
     "metadata": {},
     "output_type": "execute_result"
    }
   ],
   "source": [
    "#8\n",
    "import json\n",
    "file = open(\"file1\",'r')\n",
    "data = json.load(file)\n",
    "print(data)"
   ]
  },
  {
   "cell_type": "code",
   "execution_count": 29,
   "id": "49de89a1",
   "metadata": {},
   "outputs": [],
   "source": [
    "#9\n",
    "source_file_path = 'file1'\n",
    "destination_file_path = 'demo.json'\n",
    "\n",
    "with open(source_file_path, 'r') as source_file:\n",
    "    content = source_file.read()\n",
    "\n",
    "reversed_content = content[::-1]\n",
    "\n",
    "with open(destination_file_path, 'w') as destination_file:\n",
    "    destination_file.write(reversed_content)\n"
   ]
  },
  {
   "cell_type": "code",
   "execution_count": 30,
   "id": "b66e4e85",
   "metadata": {},
   "outputs": [],
   "source": [
    "#10\n",
    "first_file_path = 'file1'\n",
    "second_file_path = 'demo.json'\n",
    "merged_file_path = 'demo1'\n",
    "\n",
    "with open(first_file_path, 'r') as first_file:\n",
    "    first_content = first_file.read()\n",
    "\n",
    "\n",
    "with open(second_file_path, 'r') as second_file:\n",
    "    second_content = second_file.read()\n",
    "\n",
    "combined_content = first_content + second_content\n",
    "\n",
    "with open(merged_file_path, 'w') as merged_file:\n",
    "    merged_file.write(combined_content)\n"
   ]
  },
  {
   "cell_type": "code",
   "execution_count": null,
   "id": "cf34ffef",
   "metadata": {},
   "outputs": [],
   "source": []
  }
 ],
 "metadata": {
  "kernelspec": {
   "display_name": "Python 3 (ipykernel)",
   "language": "python",
   "name": "python3"
  },
  "language_info": {
   "codemirror_mode": {
    "name": "ipython",
    "version": 3
   },
   "file_extension": ".py",
   "mimetype": "text/x-python",
   "name": "python",
   "nbconvert_exporter": "python",
   "pygments_lexer": "ipython3",
   "version": "3.9.12"
  }
 },
 "nbformat": 4,
 "nbformat_minor": 5
}
