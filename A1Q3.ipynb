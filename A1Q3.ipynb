{
 "cells": [
  {
   "cell_type": "code",
   "execution_count": 3,
   "id": "3d595b86",
   "metadata": {},
   "outputs": [
    {
     "name": "stdout",
     "output_type": "stream",
     "text": [
      "{'apple': 1, 'banana': 2, 'orange': 3, 'grapes': 4}\n",
      "The key is present in the dictionary\n"
     ]
    }
   ],
   "source": [
    "#1) to check whether given key exists\n",
    "mydict = {'apple':1, 'banana':2, 'orange':3, 'grapes':4}\n",
    "print(mydict)\n",
    "key = 'banana'\n",
    "if key in mydict:\n",
    "    print(\"The key is present in the dictionary\")\n",
    "else:\n",
    "    print(\"The key is not presnt\")"
   ]
  },
  {
   "cell_type": "code",
   "execution_count": 9,
   "id": "f5b952ec",
   "metadata": {},
   "outputs": [
    {
     "name": "stdout",
     "output_type": "stream",
     "text": [
      "apple:1\n",
      "banana:2\n",
      "orange:3\n",
      "grapes:4\n"
     ]
    }
   ],
   "source": [
    "#2) to iterate over dictionary\n",
    "for key, value in mydict.items():\n",
    "    print(f\"{key}:{value}\")\n",
    "    "
   ]
  },
  {
   "cell_type": "code",
   "execution_count": 16,
   "id": "05feeaf1",
   "metadata": {},
   "outputs": [
    {
     "name": "stdout",
     "output_type": "stream",
     "text": [
      "{'1': 'a', '2': 'b', '3': 'c', '4': 'd', '5': 'e', '6': 'f', '7': 'g'}\n"
     ]
    }
   ],
   "source": [
    "#3) concatenate two dictionaries \n",
    "dict1 ={'1':'a','2':'b','3':'c','4':'d','5':'e'}\n",
    "dict2 = {'6':'f','7':'g'}\n",
    "concatenated_dict = {**dict1, **dict2}\n",
    "print(concatenated_dict)"
   ]
  },
  {
   "cell_type": "code",
   "execution_count": 18,
   "id": "ad6c4639",
   "metadata": {},
   "outputs": [
    {
     "name": "stdout",
     "output_type": "stream",
     "text": [
      "10\n"
     ]
    }
   ],
   "source": [
    "#4) sum all the values \n",
    "sum_values = sum(mydict.values())\n",
    "print(sum_values)"
   ]
  },
  {
   "cell_type": "code",
   "execution_count": 21,
   "id": "b0c837b9",
   "metadata": {},
   "outputs": [
    {
     "name": "stdout",
     "output_type": "stream",
     "text": [
      "4\n",
      "1\n"
     ]
    }
   ],
   "source": [
    "#5) to find max and min\n",
    "max_values = max(mydict.values())\n",
    "print(max_values)\n",
    "min_values = min(mydict.values())\n",
    "print(min_values)"
   ]
  },
  {
   "cell_type": "code",
   "execution_count": null,
   "id": "7d27af4d",
   "metadata": {},
   "outputs": [],
   "source": []
  }
 ],
 "metadata": {
  "kernelspec": {
   "display_name": "Python 3 (ipykernel)",
   "language": "python",
   "name": "python3"
  },
  "language_info": {
   "codemirror_mode": {
    "name": "ipython",
    "version": 3
   },
   "file_extension": ".py",
   "mimetype": "text/x-python",
   "name": "python",
   "nbconvert_exporter": "python",
   "pygments_lexer": "ipython3",
   "version": "3.9.12"
  }
 },
 "nbformat": 4,
 "nbformat_minor": 5
}
